{
 "cells": [
  {
   "cell_type": "markdown",
   "metadata": {},
   "source": [
    "# Perceptron1"
   ]
  },
  {
   "cell_type": "markdown",
   "metadata": {},
   "source": [
    "Now we want to mimic an AND logical function by a perceptron? The AND has 2 inputs that can either take the values 0 \n",
    "or 1; so its function can be expressed by a truth table containg 2^2 == 4 entries. \n",
    "An AND only takes 1 (TRUE) as output if both inputs are 1 (TRUE).\n",
    "\n",
    "Question now is how to model the AND function with a perceptron. Obviously we have to train the perceptron with all \n",
    "4 train samples with enough iterations (epochs).\n",
    "\n",
    "At the end 2 exercises are included."
   ]
  },
  {
   "cell_type": "code",
   "execution_count": 6,
   "metadata": {
    "collapsed": true
   },
   "outputs": [],
   "source": [
    "import numpy as np\n",
    "import matplotlib.pyplot as plt\n",
    "#import sklearn.linear_model.perceptron as p\n",
    "from sklearn.linear_model import perceptron\n",
    " \n",
    "# Needed to show the plots inline\n",
    "%matplotlib inline"
   ]
  },
  {
   "cell_type": "markdown",
   "metadata": {},
   "source": [
    "Get the data"
   ]
  },
  {
   "cell_type": "code",
   "execution_count": 7,
   "metadata": {
    "collapsed": true
   },
   "outputs": [],
   "source": [
    "# Data\n",
    "d = np.array([\n",
    "[0, 0, 1, 1],\n",
    "[0, 1, 0, 1]\n",
    "])\n",
    " \n",
    "# Labels\n",
    "t = np.array([0, 0, 0, 1])"
   ]
  },
  {
   "cell_type": "markdown",
   "metadata": {},
   "source": [
    "Plot points"
   ]
  },
  {
   "cell_type": "code",
   "execution_count": 8,
   "metadata": {},
   "outputs": [
    {
     "data": {
      "text/plain": [
       "<matplotlib.collections.PathCollection at 0x7f076662ba58>"
      ]
     },
     "execution_count": 8,
     "metadata": {},
     "output_type": "execute_result"
    },
    {
     "data": {
      "image/png": "[encoded data removed]",
      "text/plain": [
       "<matplotlib.figure.Figure at 0x7f0766720cc0>"
      ]
     },
     "metadata": {},
     "output_type": "display_data"
    }
   ],
   "source": [
    "colormap = np.array(['r', 'b'])\n",
    "plt.scatter(d[0], d[1], c=colormap[t], s=40)"
   ]
  },
  {
   "cell_type": "code",
   "execution_count": null,
   "metadata": {
    "collapsed": true
   },
   "outputs": [],
   "source": []
  },
  {
   "cell_type": "code",
   "execution_count": 9,
   "metadata": {},
   "outputs": [
    {
     "name": "stdout",
     "output_type": "stream",
     "text": [
      "Prediction [0 0 0 1]\n",
      "Actual     [0 0 0 1]\n",
      "Accuracy   100.0%\n"
     ]
    },
    {
     "name": "stderr",
     "output_type": "stream",
     "text": [
      "/home/pia/anaconda3/lib/python3.6/site-packages/sklearn/linear_model/stochastic_gradient.py:73: DeprecationWarning: n_iter parameter is deprecated in 0.19 and will be removed in 0.21. Use max_iter and tol instead.\n",
      "  DeprecationWarning)\n"
     ]
    },
    {
     "data": {
      "text/plain": [
       "array([[0, 0],\n",
       "       [1, 0],\n",
       "       [0, 1],\n",
       "       [1, 1]])"
      ]
     },
     "execution_count": 9,
     "metadata": {},
     "output_type": "execute_result"
    }
   ],
   "source": [
    "# rotate the data 270 degrees\n",
    "d90 = np.rot90(d)\n",
    "d180 = np.rot90(d90)\n",
    "d270 = np.rot90(d180)\n",
    " \n",
    "# Create the model: train with d270!\n",
    "net = perceptron.Perceptron(n_iter=4, verbose=0, random_state=None, fit_intercept=True, eta0=0.002)\n",
    "net.fit(d270,t)\n",
    " \n",
    "# Print the results\n",
    "print (\"Prediction \" + str(net.predict(d270)) )      # Use the model: infer with d270\n",
    "print (\"Actual     \" + str(t))\n",
    "print (\"Accuracy   \" + str(net.score(d270, t)*100) + \"%\")\n",
    "d270"
   ]
  },
  {
   "cell_type": "code",
   "execution_count": 2,
   "metadata": {},
   "outputs": [
    {
     "ename": "NameError",
     "evalue": "name 'plt' is not defined",
     "output_type": "error",
     "traceback": [
      "\u001b[0;31m---------------------------------------------------------------------------\u001b[0m",
      "\u001b[0;31mNameError\u001b[0m                                 Traceback (most recent call last)",
      "\u001b[0;32m<ipython-input-2-a640c0a8f2ed>\u001b[0m in \u001b[0;36m<module>\u001b[0;34m()\u001b[0m\n\u001b[1;32m      1\u001b[0m \u001b[0;31m# Plot the original data\u001b[0m\u001b[0;34m\u001b[0m\u001b[0;34m\u001b[0m\u001b[0m\n\u001b[0;32m----> 2\u001b[0;31m \u001b[0mplt\u001b[0m\u001b[0;34m.\u001b[0m\u001b[0mscatter\u001b[0m\u001b[0;34m(\u001b[0m\u001b[0md\u001b[0m\u001b[0;34m[\u001b[0m\u001b[0;36m0\u001b[0m\u001b[0;34m]\u001b[0m\u001b[0;34m,\u001b[0m \u001b[0md\u001b[0m\u001b[0;34m[\u001b[0m\u001b[0;36m1\u001b[0m\u001b[0;34m]\u001b[0m\u001b[0;34m,\u001b[0m \u001b[0mc\u001b[0m\u001b[0;34m=\u001b[0m\u001b[0mcolormap\u001b[0m\u001b[0;34m[\u001b[0m\u001b[0mt\u001b[0m\u001b[0;34m]\u001b[0m\u001b[0;34m,\u001b[0m \u001b[0ms\u001b[0m\u001b[0;34m=\u001b[0m\u001b[0;36m40\u001b[0m\u001b[0;34m)\u001b[0m\u001b[0;34m\u001b[0m\u001b[0m\n\u001b[0m\u001b[1;32m      3\u001b[0m \u001b[0;34m\u001b[0m\u001b[0m\n\u001b[1;32m      4\u001b[0m \u001b[0;31m# Output the values\u001b[0m\u001b[0;34m\u001b[0m\u001b[0;34m\u001b[0m\u001b[0m\n\u001b[1;32m      5\u001b[0m \u001b[0mprint\u001b[0m \u001b[0;34m(\u001b[0m\u001b[0;34m\"Coefficient 0 \"\u001b[0m \u001b[0;34m+\u001b[0m \u001b[0mstr\u001b[0m\u001b[0;34m(\u001b[0m\u001b[0mnet\u001b[0m\u001b[0;34m.\u001b[0m\u001b[0mcoef_\u001b[0m\u001b[0;34m[\u001b[0m\u001b[0;36m0\u001b[0m\u001b[0;34m,\u001b[0m\u001b[0;36m0\u001b[0m\u001b[0;34m]\u001b[0m\u001b[0;34m)\u001b[0m\u001b[0;34m)\u001b[0m\u001b[0;34m\u001b[0m\u001b[0m\n",
      "\u001b[0;31mNameError\u001b[0m: name 'plt' is not defined"
     ]
    }
   ],
   "source": [
    "# Plot the original data\n",
    "plt.scatter(d[0], d[1], c=colormap[t], s=40)\n",
    " \n",
    "# Output the values\n",
    "print (\"Coefficient 0 \" + str(net.coef_[0,0]))\n",
    "print (\"Coefficient 1 \" + str(net.coef_[0,1]))\n",
    "print (\"Bias \" + str(net.intercept_))\n",
    " \n",
    "# Calc the hyperplane (decision boundary)\n",
    "ymin, ymax = plt.ylim()\n",
    "w = net.coef_[0]\n",
    "a = -w[0] / w[1]\n",
    "xx = np.linspace(ymin, ymax)\n",
    "yy = a * xx - (net.intercept_[0]) / w[1]\n",
    " \n",
    "# Plot the line\n",
    "plt.plot(yy,xx, 'k-')"
   ]
  },
  {
   "cell_type": "markdown",
   "metadata": {},
   "source": [
    "As can be seen the perceptron has successfully separated for the AND function the 3 False and the 1 True truth table entries."
   ]
  },
  {
   "cell_type": "markdown",
   "metadata": {
    "collapsed": true
   },
   "source": [
    "# Exercises\n",
    "1. Question: if we reduce the number of iterations what would you think would happen with 'accuracy' and the separation line?\n",
    "    At what threshold would a decreasing number of iterations fail the correct inference?\n",
    "2. Do the same for the OR function. The OR function only has a 0 (FALSE) output if both the inputs are 0 (FALSE). \n",
    "See https://en.wikipedia.org/wiki/Boolean_algebra\n",
    "3. Do the same for the XOR function."
   ]
  },
  {
   "cell_type": "markdown",
   "metadata": {},
   "source": [
    "Answer:\n",
    "1. by reducing the num of iterations, tha accuracy will come lower, because the algorithem could not train enough. Also the seperatino line do not fit exactly and will probably split the data in the visalization not correct (some elements are at the wrong side)\n",
    "\n",
    "in that example given lower than 5 iterations"
   ]
  },
  {
   "cell_type": "markdown",
   "metadata": {},
   "source": [
    "2. OR "
   ]
  },
  {
   "cell_type": "code",
   "execution_count": 11,
   "metadata": {},
   "outputs": [
    {
     "data": {
      "text/plain": [
       "<matplotlib.collections.PathCollection at 0x7f07665d02b0>"
      ]
     },
     "execution_count": 11,
     "metadata": {},
     "output_type": "execute_result"
    },
    {
     "data": {
      "image/png": "[encoded data removed]",
      "text/plain": [
       "<matplotlib.figure.Figure at 0x7f0766666cc0>"
      ]
     },
     "metadata": {},
     "output_type": "display_data"
    }
   ],
   "source": [
    "# Data\n",
    "o = np.array([\n",
    "[0, 0, 1, 1],\n",
    "[0, 1, 0, 1]\n",
    "])\n",
    " \n",
    "# Labels\n",
    "to = np.array([0, 1, 1, 1])\n",
    "\n",
    "colormap = np.array(['r', 'b'])\n",
    "plt.scatter(o[0], o[1], c=colormap[to], s=40)"
   ]
  },
  {
   "cell_type": "code",
   "execution_count": 16,
   "metadata": {},
   "outputs": [
    {
     "name": "stdout",
     "output_type": "stream",
     "text": [
      "Prediction [0 1 1 1]\n",
      "Actual     [0 1 1 1]\n",
      "Accuracy   100.0%\n"
     ]
    },
    {
     "name": "stderr",
     "output_type": "stream",
     "text": [
      "/home/pia/anaconda3/lib/python3.6/site-packages/sklearn/linear_model/stochastic_gradient.py:73: DeprecationWarning: n_iter parameter is deprecated in 0.19 and will be removed in 0.21. Use max_iter and tol instead.\n",
      "  DeprecationWarning)\n"
     ]
    },
    {
     "data": {
      "text/plain": [
       "array([[0, 0],\n",
       "       [1, 0],\n",
       "       [0, 1],\n",
       "       [1, 1]])"
      ]
     },
     "execution_count": 16,
     "metadata": {},
     "output_type": "execute_result"
    }
   ],
   "source": [
    "# rotate the data 270 degrees\n",
    "o90 = np.rot90(o)\n",
    "o180 = np.rot90(o90)\n",
    "o270 = np.rot90(o180)\n",
    " \n",
    "# Create the model: train with o270!\n",
    "net = perceptron.Perceptron(n_iter=1500, verbose=0, random_state=None, fit_intercept=True, eta0=0.002)\n",
    "net.fit(o270,to)\n",
    " \n",
    "# Print the results\n",
    "print (\"Prediction \" + str(net.predict(o270)) )      # Use the model: infer with o270\n",
    "print (\"Actual     \" + str(to))\n",
    "print (\"Accuracy   \" + str(net.score(o270, to)*100) + \"%\")\n",
    "o270"
   ]
  },
  {
   "cell_type": "code",
   "execution_count": 17,
   "metadata": {},
   "outputs": [
    {
     "name": "stdout",
     "output_type": "stream",
     "text": [
      "Coefficient 0 0.004\n",
      "Coefficient 1 0.004\n",
      "Bias [-0.002]\n"
     ]
    },
    {
     "data": {
      "text/plain": [
       "[<matplotlib.lines.Line2D at 0x7f0766341dd8>]"
      ]
     },
     "execution_count": 17,
     "metadata": {},
     "output_type": "execute_result"
    },
    {
     "data": {
      "image/png": "[encoded data removed]",
      "text/plain": [
       "<matplotlib.figure.Figure at 0x7f0766412278>"
      ]
     },
     "metadata": {},
     "output_type": "display_data"
    }
   ],
   "source": [
    "# Plot the original data\n",
    "plt.scatter(o[0], o[1], c=colormap[to], s=40)\n",
    " \n",
    "# Output the values\n",
    "print (\"Coefficient 0 \" + str(net.coef_[0,0]))\n",
    "print (\"Coefficient 1 \" + str(net.coef_[0,1]))\n",
    "print (\"Bias \" + str(net.intercept_))\n",
    " \n",
    "# Calc the hyperplane (decision boundary)\n",
    "ymin, ymax = plt.ylim()\n",
    "w = net.coef_[0]\n",
    "a = -w[0] / w[1]\n",
    "xx = np.linspace(ymin, ymax)\n",
    "yy = a * xx - (net.intercept_[0]) / w[1]\n",
    " \n",
    "# Plot the line\n",
    "plt.plot(yy,xx, 'k-')"
   ]
  },
  {
   "cell_type": "markdown",
   "metadata": {},
   "source": [
    "2. XOR"
   ]
  },
  {
   "cell_type": "code",
   "execution_count": 18,
   "metadata": {},
   "outputs": [
    {
     "data": {
      "text/plain": [
       "<matplotlib.collections.PathCollection at 0x7f07662539e8>"
      ]
     },
     "execution_count": 18,
     "metadata": {},
     "output_type": "execute_result"
    },
    {
     "data": {
      "image/png": "[encoded data removed]",
      "text/plain": [
       "<matplotlib.figure.Figure at 0x7f076639fb38>"
      ]
     },
     "metadata": {},
     "output_type": "display_data"
    }
   ],
   "source": [
    "# Data\n",
    "x = np.array([\n",
    "[0, 0, 1, 1],\n",
    "[0, 1, 0, 1]\n",
    "])\n",
    " \n",
    "# Labels\n",
    "tx = np.array([0, 1, 1, 0])\n",
    "\n",
    "colormap = np.array(['r', 'b'])\n",
    "plt.scatter(x[0], x[1], c=colormap[tx], s=40)"
   ]
  },
  {
   "cell_type": "code",
   "execution_count": 23,
   "metadata": {},
   "outputs": [
    {
     "name": "stdout",
     "output_type": "stream",
     "text": [
      "Prediction [0 0 0 0]\n",
      "Actual     [0 1 1 0]\n",
      "Accuracy   50.0%\n"
     ]
    },
    {
     "name": "stderr",
     "output_type": "stream",
     "text": [
      "/home/pia/anaconda3/lib/python3.6/site-packages/sklearn/linear_model/stochastic_gradient.py:73: DeprecationWarning: n_iter parameter is deprecated in 0.19 and will be removed in 0.21. Use max_iter and tol instead.\n",
      "  DeprecationWarning)\n"
     ]
    },
    {
     "data": {
      "text/plain": [
       "array([[0, 0],\n",
       "       [1, 0],\n",
       "       [0, 1],\n",
       "       [1, 1]])"
      ]
     },
     "execution_count": 23,
     "metadata": {},
     "output_type": "execute_result"
    }
   ],
   "source": [
    "# rotate the data 270 degrees\n",
    "x90 = np.rot90(x)\n",
    "x180 = np.rot90(x90)\n",
    "x270 = np.rot90(x180)\n",
    " \n",
    "# Create the model: train with x270!\n",
    "net = perceptron.Perceptron(n_iter=15000, verbose=0, random_state=None, fit_intercept=True, eta0=0.002)\n",
    "net.fit(x270,tx)\n",
    " \n",
    "# Print the results\n",
    "print (\"Prediction \" + str(net.predict(x270)) )      # Use the model: infer with x270\n",
    "print (\"Actual     \" + str(tx))\n",
    "print (\"Accuracy   \" + str(net.score(x270, tx)*100) + \"%\")\n",
    "x270"
   ]
  },
  {
   "cell_type": "code",
   "execution_count": 15,
   "metadata": {},
   "outputs": [
    {
     "name": "stdout",
     "output_type": "stream",
     "text": [
      "Coefficient 0 0.004\n",
      "Coefficient 1 0.004\n",
      "Bias [-0.002]\n"
     ]
    },
    {
     "data": {
      "text/plain": [
       "[<matplotlib.lines.Line2D at 0x7f076639f358>]"
      ]
     },
     "execution_count": 15,
     "metadata": {},
     "output_type": "execute_result"
    },
    {
     "data": {
      "image/png": "[encoded data removed]",
      "text/plain": [
       "<matplotlib.figure.Figure at 0x7f07664be240>"
      ]
     },
     "metadata": {},
     "output_type": "display_data"
    }
   ],
   "source": [
    "# Plot the original data\n",
    "plt.scatter(x[0], x[1], c=colormap[tx], s=40)\n",
    " \n",
    "# Output the values\n",
    "print (\"Coefficient 0 \" + str(net.coef_[0,0]))\n",
    "print (\"Coefficient 1 \" + str(net.coef_[0,1]))\n",
    "print (\"Bias \" + str(net.intercept_))\n",
    " \n",
    "# Calc the hyperplane (decision boundary)\n",
    "ymin, ymax = plt.ylim()\n",
    "w = net.coef_[0]\n",
    "a = -w[0] / w[1]\n",
    "xx = np.linspace(ymin, ymax)\n",
    "yy = a * xx - (net.intercept_[0]) / w[1]\n",
    " \n",
    "# Plot the line\n",
    "plt.plot(yy,xx, 'k-')"
   ]
  },
  {
   "cell_type": "markdown",
   "metadata": {},
   "source": [
    "The problem with the xor could not be solved, for the logic of a perceptron there is no difference. It just have a \"1D\" logic, which could simply solve \"and\" and a \"or\" problem, but \"xor\" requires tree dimensions."
   ]
  }
 ],
 "metadata": {
  "kernelspec": {
   "display_name": "Python 3",
   "language": "python",
   "name": "python3"
  },
  "language_info": {
   "codemirror_mode": {
    "name": "ipython",
    "version": 3
   },
   "file_extension": ".py",
   "mimetype": "text/x-python",
   "name": "python",
   "nbconvert_exporter": "python",
   "pygments_lexer": "ipython3",
   "version": "3.6.1"
  }
 },
 "nbformat": 4,
 "nbformat_minor": 2
}
