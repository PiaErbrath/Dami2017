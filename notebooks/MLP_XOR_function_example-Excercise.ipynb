{
 "cells": [
  {
   "cell_type": "markdown",
   "metadata": {},
   "source": [
    "# Multi Level Perceptron (MLP)\n"
   ]
  },
  {
   "cell_type": "markdown",
   "metadata": {},
   "source": [
    "## MLP Classifier\n",
    "\n",
    "Multi-layer Perceptron (MLP) is a supervised learning algorithm that learns a function $f(\\cdot):\n",
    "    R^m \\rightarrow R^o$ by training on a dataset, where $m$ is the number of dimensions for input \n",
    "    and $o$ is the number of dimensions for output. Given a set of features $X = {x_1, x_2, ..., x_m}$\n",
    "    and a target $y$, it can learn a **non-linear function** approximator for either classification\n",
    "    or regression. It is different from logistic regression, in that between the input and the \n",
    "    output layer, there can be one or more non-linear layers, called hidden layers. See Figure 1 below;\n",
    "    shows a one hidden layer MLP with scalar output.\n",
    "\n",
    "The leftmost layer, known as the input layer, consists of a set of neurons \n",
    "$\\{x_i\\ \\ |\\ \\ x_1, x_2, \n",
    "..., x_m\\}$ representing the input features. Each neuron in the hidden layer transforms the \n",
    "values from the previous layer with a weighted linear summation $w_1x_1 + w_2x_2 + ... + w_mx_m$,\n",
    "followed by a non-linear activation function $g(\\cdot):R \\rightarrow R$ - like the hyperbolic \n",
    "    tan function. The output layer receives the values from the last hidden layer and \n",
    "    transforms them into output values.\n",
    "The module contains the public attributes $coefs\\_$ and $intercepts\\_$. Attribute\n",
    "$coefs\\_$ is a list of weight \n",
    "matrices, where weight matrix at index $i$ represents the weights between layer $i$ and layer \n",
    "$i+1$. \n",
    "Attribute $intercepts\\_$ is a list of bias vectors, where the vector at index $i$ represents the bias values\n",
    "added to layer $i+1$.\n",
    "\n",
    "The advantages of Multi-layer Perceptron are:\n",
    "* Capability to learn models in real-time (on-line learning) using partial_fit.\n",
    "* Capability to learn non-linear models.\n",
    "\n",
    "The disadvantages of Multi-layer Perceptron (MLP) include:\n",
    "* MLP with hidden layers have a non-convex loss function where there exists more than one local \n",
    "minimum. Therefore different random weight initializations can lead to different validation \n",
    "accuracy.\n",
    "* MLP requires tuning a number of hyperparameters such as the number of hidden neurons, layers, \n",
    "and iterations.\n",
    "* MLP is sensitive to feature scaling.\n",
    "\n",
    "The URL http://scikit-learn.org/stable/modules/generated/sklearn.neural_network.MLPClassifier.html\n",
    "    provides some details how to use the scikit learn MLP classifier."
   ]
  },
  {
   "cell_type": "markdown",
   "metadata": {},
   "source": [
    "![MLP](mlp1.png)"
   ]
  },
  {
   "cell_type": "markdown",
   "metadata": {},
   "source": [
    "## MLP Classifier for XOR function"
   ]
  },
  {
   "cell_type": "code",
   "execution_count": 1,
   "metadata": {
    "collapsed": true
   },
   "outputs": [],
   "source": [
    "#importing needed libraries\n",
    "import numpy as np\n",
    "from sklearn.neural_network import MLPClassifier\n",
    "import matplotlib.pyplot as plt\n",
    "%matplotlib inline"
   ]
  },
  {
   "cell_type": "markdown",
   "metadata": {},
   "source": [
    "### XOR Data set"
   ]
  },
  {
   "cell_type": "code",
   "execution_count": 2,
   "metadata": {
    "scrolled": false
   },
   "outputs": [
    {
     "name": "stdout",
     "output_type": "stream",
     "text": [
      "X type:  <class 'numpy.ndarray'> , X dimensions:  (4, 2)\n",
      "y type:  <class 'numpy.ndarray'> , y dimensions:  (4,)\n"
     ]
    }
   ],
   "source": [
    "X = np.array([[0, 0], \n",
    "              [0, 1], \n",
    "              [1, 0], \n",
    "              [1, 1]]) #2D input array with train data\n",
    "y = np.array([0, 1, 1, 0]) #output vector for XOR\n",
    "#check dimensions\n",
    "print(\"X type: \", type(X), \", X dimensions: \", X.shape)\n",
    "print(\"y type: \", type(y), \", y dimensions: \", y.shape)"
   ]
  },
  {
   "cell_type": "markdown",
   "metadata": {
    "collapsed": true
   },
   "source": [
    "### Set up and Train MLP"
   ]
  },
  {
   "cell_type": "code",
   "execution_count": 3,
   "metadata": {},
   "outputs": [
    {
     "name": "stdout",
     "output_type": "stream",
     "text": [
      "Iteration 1, loss = 0.77009592\n",
      "Iteration 2, loss = 0.72667306\n",
      "Iteration 3, loss = 0.69797102\n",
      "Iteration 4, loss = 0.68300456\n",
      "Iteration 5, loss = 0.67812999\n",
      "Iteration 6, loss = 0.67823109\n",
      "Iteration 7, loss = 0.67878826\n",
      "Iteration 8, loss = 0.67734066\n",
      "Iteration 9, loss = 0.67324274\n",
      "Iteration 10, loss = 0.66680616\n",
      "Iteration 11, loss = 0.65868065\n",
      "Iteration 12, loss = 0.64954436\n",
      "Iteration 13, loss = 0.63996843\n",
      "Iteration 14, loss = 0.63036705\n",
      "Iteration 15, loss = 0.62099410\n",
      "Iteration 16, loss = 0.61196789\n",
      "Iteration 17, loss = 0.60331262\n",
      "Iteration 18, loss = 0.59500654\n",
      "Iteration 19, loss = 0.58702453\n",
      "Iteration 20, loss = 0.57936334\n",
      "Iteration 21, loss = 0.57204425\n",
      "Iteration 22, loss = 0.56509799\n",
      "Iteration 23, loss = 0.55854471\n",
      "Iteration 24, loss = 0.55238196\n",
      "Iteration 25, loss = 0.54658720\n",
      "Iteration 26, loss = 0.54113116\n",
      "Iteration 27, loss = 0.53599191\n",
      "Iteration 28, loss = 0.53116089\n",
      "Iteration 29, loss = 0.52663923\n",
      "Iteration 30, loss = 0.52242921\n",
      "Iteration 31, loss = 0.51852681\n",
      "Iteration 32, loss = 0.51491891\n",
      "Iteration 33, loss = 0.51158479\n",
      "Iteration 34, loss = 0.50849963\n",
      "Iteration 35, loss = 0.50563728\n",
      "Iteration 36, loss = 0.50297079\n",
      "Iteration 37, loss = 0.50047017\n",
      "Iteration 38, loss = 0.49809823\n",
      "Iteration 39, loss = 0.49580546\n",
      "Iteration 40, loss = 0.49352434\n",
      "Iteration 41, loss = 0.49116256\n",
      "Iteration 42, loss = 0.48859344\n",
      "Iteration 43, loss = 0.48564204\n",
      "Iteration 44, loss = 0.48206781\n",
      "Iteration 45, loss = 0.47755570\n",
      "Iteration 46, loss = 0.47175175\n",
      "Iteration 47, loss = 0.46441492\n",
      "Iteration 48, loss = 0.45576827\n",
      "Iteration 49, loss = 0.44700517\n",
      "Iteration 50, loss = 0.43996254\n",
      "Iteration 51, loss = 0.43430257\n",
      "Iteration 52, loss = 0.42783857\n",
      "Iteration 53, loss = 0.41899380\n",
      "Iteration 54, loss = 0.40845405\n",
      "Iteration 55, loss = 0.39808945\n",
      "Iteration 56, loss = 0.38877802\n",
      "Iteration 57, loss = 0.37922024\n",
      "Iteration 58, loss = 0.36684070\n",
      "Iteration 59, loss = 0.34987884\n",
      "Iteration 60, loss = 0.32879594\n",
      "Iteration 61, loss = 0.30658100\n",
      "Iteration 62, loss = 0.28699298\n",
      "Iteration 63, loss = 0.26936903\n",
      "Iteration 64, loss = 0.24932098\n",
      "Iteration 65, loss = 0.22790070\n",
      "Iteration 66, loss = 0.20926625\n",
      "Iteration 67, loss = 0.19473259\n",
      "Iteration 68, loss = 0.18243269\n",
      "Iteration 69, loss = 0.17036212\n",
      "Iteration 70, loss = 0.15805471\n",
      "Iteration 71, loss = 0.14618007\n",
      "Iteration 72, loss = 0.13552667\n",
      "Iteration 73, loss = 0.12633083\n",
      "Iteration 74, loss = 0.11823467\n",
      "Iteration 75, loss = 0.11069418\n",
      "Iteration 76, loss = 0.10340489\n",
      "Iteration 77, loss = 0.09640822\n",
      "Iteration 78, loss = 0.08990892\n",
      "Iteration 79, loss = 0.08406102\n",
      "Iteration 80, loss = 0.07888474\n",
      "Iteration 81, loss = 0.07429715\n",
      "Iteration 82, loss = 0.07017702\n",
      "Iteration 83, loss = 0.06641385\n",
      "Iteration 84, loss = 0.06293008\n",
      "Iteration 85, loss = 0.05968285\n",
      "Iteration 86, loss = 0.05665503\n",
      "Iteration 87, loss = 0.05384310\n",
      "Iteration 88, loss = 0.05124682\n",
      "Iteration 89, loss = 0.04886263\n",
      "Iteration 90, loss = 0.04668106\n",
      "Iteration 91, loss = 0.04468691\n",
      "Iteration 92, loss = 0.04286125\n",
      "Iteration 93, loss = 0.04118378\n",
      "Iteration 94, loss = 0.03963511\n",
      "Iteration 95, loss = 0.03819830\n",
      "Iteration 96, loss = 0.03685962\n",
      "Iteration 97, loss = 0.03560861\n",
      "Iteration 98, loss = 0.03443754\n",
      "Iteration 99, loss = 0.03334065\n",
      "Iteration 100, loss = 0.03231332\n",
      "Iteration 101, loss = 0.03135145\n",
      "Iteration 102, loss = 0.03045101\n",
      "Iteration 103, loss = 0.02960781\n",
      "Iteration 104, loss = 0.02881752\n",
      "Iteration 105, loss = 0.02807572\n",
      "Iteration 106, loss = 0.02737809\n",
      "Iteration 107, loss = 0.02672051\n",
      "Iteration 108, loss = 0.02609921\n",
      "Iteration 109, loss = 0.02551081\n",
      "Iteration 110, loss = 0.02495237\n",
      "Iteration 111, loss = 0.02442137\n",
      "Iteration 112, loss = 0.02391566\n",
      "Iteration 113, loss = 0.02343343\n",
      "Iteration 114, loss = 0.02297308\n",
      "Iteration 115, loss = 0.02253326\n",
      "Iteration 116, loss = 0.02211270\n",
      "Iteration 117, loss = 0.02171029\n",
      "Iteration 118, loss = 0.02132494\n",
      "Iteration 119, loss = 0.02095565\n",
      "Iteration 120, loss = 0.02060145\n",
      "Iteration 121, loss = 0.02026141\n",
      "Iteration 122, loss = 0.01993465\n",
      "Iteration 123, loss = 0.01962033\n",
      "Iteration 124, loss = 0.01931768\n",
      "Iteration 125, loss = 0.01902597\n",
      "Iteration 126, loss = 0.01874452\n",
      "Iteration 127, loss = 0.01847271\n",
      "Iteration 128, loss = 0.01820999\n",
      "Iteration 129, loss = 0.01795583\n",
      "Iteration 130, loss = 0.01770978\n",
      "Iteration 131, loss = 0.01747141\n",
      "Iteration 132, loss = 0.01724033\n",
      "Iteration 133, loss = 0.01701618\n",
      "Iteration 134, loss = 0.01679862\n",
      "Iteration 135, loss = 0.01658736\n",
      "Iteration 136, loss = 0.01638210\n",
      "Iteration 137, loss = 0.01618257\n",
      "Iteration 138, loss = 0.01598851\n",
      "Iteration 139, loss = 0.01579969\n",
      "Iteration 140, loss = 0.01561587\n",
      "Iteration 141, loss = 0.01543683\n",
      "Iteration 142, loss = 0.01526237\n",
      "Iteration 143, loss = 0.01509229\n",
      "Iteration 144, loss = 0.01492641\n",
      "Iteration 145, loss = 0.01476456\n",
      "Iteration 146, loss = 0.01460658\n",
      "Iteration 147, loss = 0.01445231\n",
      "Iteration 148, loss = 0.01430160\n",
      "Iteration 149, loss = 0.01415432\n",
      "Iteration 150, loss = 0.01401034\n",
      "Iteration 151, loss = 0.01386955\n",
      "Iteration 152, loss = 0.01373182\n",
      "Iteration 153, loss = 0.01359706\n",
      "Iteration 154, loss = 0.01346515\n",
      "Iteration 155, loss = 0.01333601\n",
      "Iteration 156, loss = 0.01320955\n",
      "Iteration 157, loss = 0.01308566\n",
      "Iteration 158, loss = 0.01296428\n",
      "Iteration 159, loss = 0.01284533\n",
      "Iteration 160, loss = 0.01272873\n",
      "Iteration 161, loss = 0.01261440\n",
      "Iteration 162, loss = 0.01250228\n",
      "Iteration 163, loss = 0.01239231\n",
      "Iteration 164, loss = 0.01228441\n",
      "Iteration 165, loss = 0.01217853\n",
      "Iteration 166, loss = 0.01207462\n",
      "Iteration 167, loss = 0.01197261\n",
      "Iteration 168, loss = 0.01187246\n",
      "Iteration 169, loss = 0.01177411\n",
      "Iteration 170, loss = 0.01167751\n",
      "Iteration 171, loss = 0.01158261\n",
      "Training loss did not improve more than tol=0.000100 for two consecutive epochs. Stopping.\n"
     ]
    },
    {
     "data": {
      "text/plain": [
       "MLPClassifier(activation='tanh', alpha=0.0001, batch_size='auto', beta_1=0.9,\n",
       "       beta_2=0.999, early_stopping=False, epsilon=1e-08,\n",
       "       hidden_layer_sizes=(2,), learning_rate='constant',\n",
       "       learning_rate_init=0.08, max_iter=200, momentum=0.9,\n",
       "       nesterovs_momentum=True, power_t=0.5, random_state=1, shuffle=True,\n",
       "       solver='adam', tol=0.0001, validation_fraction=0.1, verbose=True,\n",
       "       warm_start=False)"
      ]
     },
     "execution_count": 3,
     "metadata": {},
     "output_type": "execute_result"
    }
   ],
   "source": [
    "#2 neurons for the hidden layer, fully connected\n",
    "#activation function: 'relu', but could be 'tanh' as well. Sigmoid function 'logistic' is not working here\n",
    "#verbose = True stands for showing iteration steps\n",
    "mlp = MLPClassifier(hidden_layer_sizes=(2,), verbose=True, activation='tanh', \n",
    "                    learning_rate_init = 0.08, random_state=1)\n",
    "#training the model\n",
    "mlp.fit(X, y)"
   ]
  },
  {
   "cell_type": "code",
   "execution_count": 4,
   "metadata": {},
   "outputs": [
    {
     "name": "stdout",
     "output_type": "stream",
     "text": [
      "Absolute training score: 1.0\n",
      "predictions: [0 1 1 0]\n",
      "expected: [0 1 1 0]\n"
     ]
    }
   ],
   "source": [
    "print('Absolute training score:', mlp.score(X, y))\n",
    "print('predictions:', mlp.predict(X)) \n",
    "print('expected:', np.array([0, 1, 1, 0]))\n",
    "#mlp.predict([[0.8,1.0]])"
   ]
  },
  {
   "cell_type": "markdown",
   "metadata": {},
   "source": [
    "### Interrogate the trained network"
   ]
  },
  {
   "cell_type": "code",
   "execution_count": 5,
   "metadata": {},
   "outputs": [
    {
     "data": {
      "text/plain": [
       "<matplotlib.image.AxesImage at 0x7f4c749abb38>"
      ]
     },
     "execution_count": 5,
     "metadata": {},
     "output_type": "execute_result"
    },
    {
     "data": {
      "image/png": "[encoded data removed]",
      "text/plain": [
       "<matplotlib.figure.Figure at 0x7f4ca9be0630>"
      ]
     },
     "metadata": {},
     "output_type": "display_data"
    }
   ],
   "source": [
    "#Create a 2D mesh and interrogate the trained network\n",
    "PITCH = 0.01\n",
    "RESOLUTION = int(1/PITCH)\n",
    "x = np.arange(0, 1, PITCH)\n",
    "y = np.arange(0, 1, PITCH)\n",
    "crds = np.meshgrid(x, y, sparse=False, indexing='ij')\n",
    "flatX = np.ravel(crds[0])\n",
    "flatY = np.ravel(crds[1])\n",
    "test = np.column_stack((flatX,flatY))\n",
    "plt.imshow(mlp.predict(test).reshape((RESOLUTION,RESOLUTION)), origin = 'lower')"
   ]
  },
  {
   "cell_type": "markdown",
   "metadata": {},
   "source": [
    "## Why does this work?\n"
   ]
  },
  {
   "cell_type": "markdown",
   "metadata": {},
   "source": [
    "![MLP](maxresdefault.jpg)"
   ]
  },
  {
   "cell_type": "markdown",
   "metadata": {},
   "source": [
    "# Exercise\n",
    "This exercise is about showing the powerful non-linear decision surface (or line in 2D \n",
    "problems) of a trained MLP. As seen in the XOR case a lot of classification problems cannot be solved with a \n",
    "linear classifier as the perceptron or the linear Support Vector machine (SVM). \n",
    "\n",
    "Please follow the following steps.\n",
    "1. Use the data set in the $perceptron0.ipnb$ notebook as a basis.\n",
    "2. Extend it with few samples such that it cannot be separated linearly.\n",
    "3. Use a simple MLP with 2 neurons in the hidden layer, check http://scikit-learn.org/stable/modules/generated/sklearn.neural_network.MLPClassifier.html\n",
    "    for details.\n",
    "4. Use the 2D mesh grid to visualise the decision surface.\n",
    "5. Extent the data set with even more difficult to separate samples and increase the number \n",
    "of hidden neurons to solve this. Again use the 2D mesh grid to visualise the results.\n"
   ]
  },
  {
   "cell_type": "code",
   "execution_count": 11,
   "metadata": {},
   "outputs": [],
   "source": [
    "# Data\n",
    "d = np.array([\n",
    "[2, 1, 2, 5, 7, 2, 3, 6, 1, 2, 5, 4, 6, 5, 2, 6, 4, 6, 1, 3, 1, 4],\n",
    "[2, 3, 3, 3, 3, 4, 4, 4, 5, 5, 5, 6, 6, 7, 7, 7, 5, 1, 1, 6, 4, 1]\n",
    "])\n",
    " \n",
    "# Labels\n",
    "t = np.array([0, 0, 0, 1, 1, 0, 0, 1, 0, 0, 1, 1, 1, 1, 0, 0, 0, 1, 1, 1, 1, 0])\n"
   ]
  },
  {
   "cell_type": "code",
   "execution_count": 12,
   "metadata": {},
   "outputs": [
    {
     "data": {
      "text/plain": [
       "<matplotlib.collections.PathCollection at 0x7f4ea766b550>"
      ]
     },
     "execution_count": 12,
     "metadata": {},
     "output_type": "execute_result"
    },
    {
     "data": {
      "image/png": "[encoded data removed]",
      "text/plain": [
       "<matplotlib.figure.Figure at 0x7f4ea76fcbe0>"
      ]
     },
     "metadata": {},
     "output_type": "display_data"
    }
   ],
   "source": [
    "colormap = np.array(['r', 'b'])\n",
    "plt.scatter(d[0], d[1], c=colormap[t], s=40)"
   ]
  },
  {
   "cell_type": "code",
   "execution_count": 24,
   "metadata": {},
   "outputs": [
    {
     "name": "stdout",
     "output_type": "stream",
     "text": [
      "Iteration 1, loss = 1.61009384\n",
      "Iteration 2, loss = 2.05367010\n",
      "Iteration 3, loss = 0.97457103\n",
      "Iteration 4, loss = 0.90955521\n",
      "Iteration 5, loss = 1.08323856\n",
      "Iteration 6, loss = 0.69618210\n",
      "Iteration 7, loss = 0.87236216\n",
      "Iteration 8, loss = 0.93111274\n",
      "Iteration 9, loss = 0.66032686\n",
      "Iteration 10, loss = 0.73197740\n",
      "Iteration 11, loss = 0.84105017\n",
      "Iteration 12, loss = 0.68911127\n",
      "Training loss did not improve more than tol=0.000100 for two consecutive epochs. Stopping.\n"
     ]
    },
    {
     "data": {
      "text/plain": [
       "MLPClassifier(activation='tanh', alpha=0.0001, batch_size='auto', beta_1=0.9,\n",
       "       beta_2=0.999, early_stopping=False, epsilon=1e-08,\n",
       "       hidden_layer_sizes=(30,), learning_rate='constant',\n",
       "       learning_rate_init=0.2, max_iter=200, momentum=0.9,\n",
       "       nesterovs_momentum=True, power_t=0.5, random_state=1, shuffle=True,\n",
       "       solver='adam', tol=0.0001, validation_fraction=0.1, verbose=True,\n",
       "       warm_start=False)"
      ]
     },
     "execution_count": 24,
     "metadata": {},
     "output_type": "execute_result"
    }
   ],
   "source": [
    "mlp = MLPClassifier(hidden_layer_sizes=(30,), verbose=True, activation='tanh', \n",
    "                    learning_rate_init = 0.2, random_state=1)\n",
    "#training the model\n",
    "mlp.fit(np.transpose(d), t)"
   ]
  },
  {
   "cell_type": "code",
   "execution_count": 26,
   "metadata": {},
   "outputs": [
    {
     "name": "stdout",
     "output_type": "stream",
     "text": [
      "Absolute training score: 0.636363636364\n",
      "predictions: [1 0 1 1 1 0 1 1 0 0 1 1 1 1 0 1 1 1 1 0 0 1]\n",
      "expected:    [0 0 0 1 1 0 0 1 0 0 1 1 1 1 0 0 0 1 1 1 1 0]\n"
     ]
    }
   ],
   "source": [
    "print('Absolute training score:', mlp.score(np.transpose(d), t))\n",
    "print('predictions:', mlp.predict(np.transpose(d))) \n",
    "print('expected:   ', np.array(t))"
   ]
  },
  {
   "cell_type": "code",
   "execution_count": 33,
   "metadata": {},
   "outputs": [
    {
     "ename": "ValueError",
     "evalue": "cannot reshape array of size 22 into shape (100,100)",
     "output_type": "error",
     "traceback": [
      "\u001b[0;31m---------------------------------------------------------------------------\u001b[0m",
      "\u001b[0;31mValueError\u001b[0m                                Traceback (most recent call last)",
      "\u001b[0;32m<ipython-input-33-fa597cdff0ff>\u001b[0m in \u001b[0;36m<module>\u001b[0;34m()\u001b[0m\n\u001b[1;32m      7\u001b[0m \u001b[0mflatY\u001b[0m \u001b[0;34m=\u001b[0m \u001b[0mnp\u001b[0m\u001b[0;34m.\u001b[0m\u001b[0mravel\u001b[0m\u001b[0;34m(\u001b[0m\u001b[0mcrds\u001b[0m\u001b[0;34m[\u001b[0m\u001b[0;36m1\u001b[0m\u001b[0;34m]\u001b[0m\u001b[0;34m)\u001b[0m\u001b[0;34m\u001b[0m\u001b[0m\n\u001b[1;32m      8\u001b[0m \u001b[0mtest\u001b[0m \u001b[0;34m=\u001b[0m \u001b[0mnp\u001b[0m\u001b[0;34m.\u001b[0m\u001b[0mcolumn_stack\u001b[0m\u001b[0;34m(\u001b[0m\u001b[0;34m(\u001b[0m\u001b[0mflatX\u001b[0m\u001b[0;34m,\u001b[0m\u001b[0mflatY\u001b[0m\u001b[0;34m)\u001b[0m\u001b[0;34m)\u001b[0m\u001b[0;34m\u001b[0m\u001b[0m\n\u001b[0;32m----> 9\u001b[0;31m \u001b[0mplt\u001b[0m\u001b[0;34m.\u001b[0m\u001b[0mimshow\u001b[0m\u001b[0;34m(\u001b[0m\u001b[0mmlp\u001b[0m\u001b[0;34m.\u001b[0m\u001b[0mpredict\u001b[0m\u001b[0;34m(\u001b[0m\u001b[0mnp\u001b[0m\u001b[0;34m.\u001b[0m\u001b[0mtranspose\u001b[0m\u001b[0;34m(\u001b[0m\u001b[0md\u001b[0m\u001b[0;34m)\u001b[0m\u001b[0;34m)\u001b[0m\u001b[0;34m.\u001b[0m\u001b[0mreshape\u001b[0m\u001b[0;34m(\u001b[0m\u001b[0;34m(\u001b[0m\u001b[0;36m100\u001b[0m\u001b[0;34m,\u001b[0m\u001b[0;36m100\u001b[0m\u001b[0;34m)\u001b[0m\u001b[0;34m)\u001b[0m\u001b[0;34m,\u001b[0m \u001b[0morigin\u001b[0m \u001b[0;34m=\u001b[0m \u001b[0;34m'lower'\u001b[0m\u001b[0;34m)\u001b[0m\u001b[0;34m\u001b[0m\u001b[0m\n\u001b[0m",
      "\u001b[0;31mValueError\u001b[0m: cannot reshape array of size 22 into shape (100,100)"
     ]
    }
   ],
   "source": [
    "#Create a 2D mesh and interrogate the trained network\n",
    "PITCH = 0.1\n",
    "x = np.arange(0, 10, PITCH)\n",
    "y = np.arange(0, 10, PITCH)\n",
    "crds = np.meshgrid(x, y, sparse=False, indexing='ij')\n",
    "flatX = np.ravel(crds[0])\n",
    "flatY = np.ravel(crds[1])\n",
    "test = np.column_stack((flatX,flatY))\n",
    "plt.imshow(mlp.predict(np.transpose(d)).reshape((100,100)), origin = 'lower')"
   ]
  }
 ],
 "metadata": {
  "kernelspec": {
   "display_name": "Python 3",
   "language": "python",
   "name": "python3"
  },
  "language_info": {
   "codemirror_mode": {
    "name": "ipython",
    "version": 3
   },
   "file_extension": ".py",
   "mimetype": "text/x-python",
   "name": "python",
   "nbconvert_exporter": "python",
   "pygments_lexer": "ipython3",
   "version": "3.6.1"
  }
 },
 "nbformat": 4,
 "nbformat_minor": 2
}
